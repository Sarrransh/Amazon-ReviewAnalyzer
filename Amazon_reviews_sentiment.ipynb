{
 "cells": [
  {
   "cell_type": "code",
   "execution_count": 36,
   "id": "92e20f84",
   "metadata": {},
   "outputs": [],
   "source": [
    "import pymysql\n",
    "import pandas as pd\n",
    "from textblob import TextBlob\n",
    "from langdetect import detect\n",
    "from langdetect.lang_detect_exception import LangDetectException"
   ]
  },
  {
   "cell_type": "code",
   "execution_count": 37,
   "id": "8fbe32ab",
   "metadata": {},
   "outputs": [
    {
     "name": "stderr",
     "output_type": "stream",
     "text": [
      "C:\\Users\\Administrator\\AppData\\Local\\Temp\\ipykernel_12776\\3075744983.py:11: UserWarning: pandas only supports SQLAlchemy connectable (engine/connection) or database string URI or sqlite3 DBAPI2 connection. Other DBAPI2 objects are not tested. Please consider using SQLAlchemy.\n",
      "  data = pd.read_sql(query, connection)\n"
     ]
    }
   ],
   "source": [
    "# Establish connection\n",
    "connection = pymysql.connect(\n",
    "    host='localhost',\n",
    "    user='root',\n",
    "    password='saransh',\n",
    "    database='amazon_reviews'\n",
    ")\n",
    "\n",
    "# Query data\n",
    "query = \"SELECT * FROM table1\"\n",
    "data = pd.read_sql(query, connection)\n",
    "\n",
    "# Close connection\n",
    "connection.close()\n"
   ]
  },
  {
   "cell_type": "code",
   "execution_count": 38,
   "id": "2f86643b",
   "metadata": {},
   "outputs": [],
   "source": [
    "newdata=data.copy()\n",
    "\n",
    "#copy the data of the dataframe into a new cell so that we have a whole new dataframe to do our cleaning of the data\n",
    "#  and some other operations"
   ]
  },
  {
   "cell_type": "code",
   "execution_count": 39,
   "id": "1b3d1963",
   "metadata": {},
   "outputs": [],
   "source": [
    "newdata['review_title'] = newdata['review_title'].str.replace('\\n', '')\n",
    "#The data which we have gathered has \\n in the end of it due to some error in the code, to remove it for better \n",
    "# sentiment analysis we are replacing the \\n with ''"
   ]
  },
  {
   "cell_type": "code",
   "execution_count": 40,
   "id": "fb1b8e66",
   "metadata": {},
   "outputs": [],
   "source": [
    "#cleaning the data : the reviews may contain some reviews in which either there are null values or some reviews\n",
    "#  which are in other language than english, we remove such rows from the dataframe\n",
    "\n",
    "def is_english(text):\n",
    "    try:\n",
    "        return detect(text) == 'en'\n",
    "    except LangDetectException:\n",
    "        return False\n",
    "    \n",
    "rows_to_drop=[]\n",
    "    \n",
    "for index, row in data.iterrows():\n",
    "    if not (is_english(row['review_body'])):\n",
    "        rows_to_drop.append(index)\n",
    "    \n",
    "\n",
    "# Drop rows from the DataFrame\n",
    "\n",
    "newdata.drop(rows_to_drop, inplace=True)\n",
    "\n"
   ]
  },
  {
   "cell_type": "code",
   "execution_count": 41,
   "id": "6a72d2e3",
   "metadata": {},
   "outputs": [
    {
     "data": {
      "text/plain": [
       "(90, 4)"
      ]
     },
     "execution_count": 41,
     "metadata": {},
     "output_type": "execute_result"
    }
   ],
   "source": [
    "data.shape"
   ]
  },
  {
   "cell_type": "code",
   "execution_count": 44,
   "id": "577ca8fb",
   "metadata": {},
   "outputs": [
    {
     "data": {
      "text/plain": [
       "(81, 4)"
      ]
     },
     "execution_count": 44,
     "metadata": {},
     "output_type": "execute_result"
    }
   ],
   "source": [
    "\n",
    "newdata.shape"
   ]
  },
  {
   "cell_type": "code",
   "execution_count": 43,
   "id": "84b5acd2",
   "metadata": {},
   "outputs": [],
   "source": [
    "newdata.dropna(subset=['review_title'], inplace=True)\n",
    "newdata.dropna(subset=['review_body'], inplace=True)\n",
    "newdata.dropna(subset=['review_rating'], inplace=True)\n",
    "\n",
    "#removing all the rows which have null values, if there are any"
   ]
  },
  {
   "cell_type": "code",
   "execution_count": 27,
   "id": "f5b263d1",
   "metadata": {},
   "outputs": [
    {
     "data": {
      "text/plain": [
       "[10, 13, 20, 22, 41, 51, 67, 75, 84]"
      ]
     },
     "execution_count": 27,
     "metadata": {},
     "output_type": "execute_result"
    }
   ],
   "source": [
    "#done with the data cleaning till the above cell\n",
    "#-------------------------------------------------------------------------------"
   ]
  },
  {
   "cell_type": "code",
   "execution_count": 29,
   "id": "bf456a69",
   "metadata": {},
   "outputs": [
    {
     "data": {
      "text/plain": [
       "''"
      ]
     },
     "execution_count": 29,
     "metadata": {},
     "output_type": "execute_result"
    }
   ],
   "source": [
    "#is_english(data['review_title'][7])\n",
    "data['review_body'][10]"
   ]
  },
  {
   "cell_type": "code",
   "execution_count": 31,
   "id": "0b42de10",
   "metadata": {},
   "outputs": [
    {
     "data": {
      "text/html": [
       "<div>\n",
       "<style scoped>\n",
       "    .dataframe tbody tr th:only-of-type {\n",
       "        vertical-align: middle;\n",
       "    }\n",
       "\n",
       "    .dataframe tbody tr th {\n",
       "        vertical-align: top;\n",
       "    }\n",
       "\n",
       "    .dataframe thead th {\n",
       "        text-align: right;\n",
       "    }\n",
       "</style>\n",
       "<table border=\"1\" class=\"dataframe\">\n",
       "  <thead>\n",
       "    <tr style=\"text-align: right;\">\n",
       "      <th></th>\n",
       "      <th>id</th>\n",
       "      <th>review_title</th>\n",
       "      <th>review_rating</th>\n",
       "      <th>review_body</th>\n",
       "    </tr>\n",
       "  </thead>\n",
       "  <tbody>\n",
       "    <tr>\n",
       "      <th>0</th>\n",
       "      <td>1</td>\n",
       "      <td>Best AC in affordable prize</td>\n",
       "      <td>5</td>\n",
       "      <td>If you are looking for a complete package, the...</td>\n",
       "    </tr>\n",
       "    <tr>\n",
       "      <th>1</th>\n",
       "      <td>2</td>\n",
       "      <td>Worst brand and worst service</td>\n",
       "      <td>1</td>\n",
       "      <td>Bought it for my Kerala home and thought Daiki...</td>\n",
       "    </tr>\n",
       "    <tr>\n",
       "      <th>2</th>\n",
       "      <td>3</td>\n",
       "      <td>High quality product from Daikin</td>\n",
       "      <td>4</td>\n",
       "      <td>The delivery was quick and the AC was delivere...</td>\n",
       "    </tr>\n",
       "    <tr>\n",
       "      <th>3</th>\n",
       "      <td>4</td>\n",
       "      <td>One of the best AC out there + excellent remote?</td>\n",
       "      <td>5</td>\n",
       "      <td>If you are looking for a complete package, the...</td>\n",
       "    </tr>\n",
       "    <tr>\n",
       "      <th>4</th>\n",
       "      <td>5</td>\n",
       "      <td>Best cooling</td>\n",
       "      <td>5</td>\n",
       "      <td>Since I am using this last 2months cooling is ...</td>\n",
       "    </tr>\n",
       "    <tr>\n",
       "      <th>5</th>\n",
       "      <td>6</td>\n",
       "      <td>Good cooling but fails on high temperatures. A...</td>\n",
       "      <td>3</td>\n",
       "      <td>Good ac. But I'm from Rajasthan and on extreme...</td>\n",
       "    </tr>\n",
       "    <tr>\n",
       "      <th>6</th>\n",
       "      <td>7</td>\n",
       "      <td>Cool AC</td>\n",
       "      <td>4</td>\n",
       "      <td>Bought this Daikin AC back in Jan 2024 for my ...</td>\n",
       "    </tr>\n",
       "    <tr>\n",
       "      <th>7</th>\n",
       "      <td>8</td>\n",
       "      <td>Daikin AC review</td>\n",
       "      <td>4</td>\n",
       "      <td>Pros: The product quality is good. Delivery wa...</td>\n",
       "    </tr>\n",
       "    <tr>\n",
       "      <th>8</th>\n",
       "      <td>9</td>\n",
       "      <td>Good</td>\n",
       "      <td>4</td>\n",
       "      <td>Less machine noise , better cooling , user fri...</td>\n",
       "    </tr>\n",
       "    <tr>\n",
       "      <th>9</th>\n",
       "      <td>10</td>\n",
       "      <td>Great cooling</td>\n",
       "      <td>4</td>\n",
       "      <td>Great cooling and value for money.</td>\n",
       "    </tr>\n",
       "    <tr>\n",
       "      <th>10</th>\n",
       "      <td>11</td>\n",
       "      <td>Nice products</td>\n",
       "      <td>4</td>\n",
       "      <td></td>\n",
       "    </tr>\n",
       "  </tbody>\n",
       "</table>\n",
       "</div>"
      ],
      "text/plain": [
       "    id                                       review_title  review_rating  \\\n",
       "0    1                        Best AC in affordable prize              5   \n",
       "1    2                      Worst brand and worst service              1   \n",
       "2    3                   High quality product from Daikin              4   \n",
       "3    4   One of the best AC out there + excellent remote?              5   \n",
       "4    5                                       Best cooling              5   \n",
       "5    6  Good cooling but fails on high temperatures. A...              3   \n",
       "6    7                                            Cool AC              4   \n",
       "7    8                                   Daikin AC review              4   \n",
       "8    9                                               Good              4   \n",
       "9   10                                      Great cooling              4   \n",
       "10  11                                      Nice products              4   \n",
       "\n",
       "                                          review_body  \n",
       "0   If you are looking for a complete package, the...  \n",
       "1   Bought it for my Kerala home and thought Daiki...  \n",
       "2   The delivery was quick and the AC was delivere...  \n",
       "3   If you are looking for a complete package, the...  \n",
       "4   Since I am using this last 2months cooling is ...  \n",
       "5   Good ac. But I'm from Rajasthan and on extreme...  \n",
       "6   Bought this Daikin AC back in Jan 2024 for my ...  \n",
       "7   Pros: The product quality is good. Delivery wa...  \n",
       "8   Less machine noise , better cooling , user fri...  \n",
       "9                  Great cooling and value for money.  \n",
       "10                                                     "
      ]
     },
     "execution_count": 31,
     "metadata": {},
     "output_type": "execute_result"
    }
   ],
   "source": [
    "data.head(11)"
   ]
  },
  {
   "cell_type": "code",
   "execution_count": 35,
   "id": "7496c1f9",
   "metadata": {},
   "outputs": [
    {
     "data": {
      "text/plain": [
       "id               0\n",
       "review_title     0\n",
       "review_rating    0\n",
       "review_body      0\n",
       "dtype: int64"
      ]
     },
     "execution_count": 35,
     "metadata": {},
     "output_type": "execute_result"
    }
   ],
   "source": [
    "newdata.isnull().sum()"
   ]
  },
  {
   "cell_type": "code",
   "execution_count": null,
   "id": "3d1c5b5d",
   "metadata": {},
   "outputs": [],
   "source": []
  }
 ],
 "metadata": {
  "kernelspec": {
   "display_name": "Python 3 (ipykernel)",
   "language": "python",
   "name": "python3"
  },
  "language_info": {
   "codemirror_mode": {
    "name": "ipython",
    "version": 3
   },
   "file_extension": ".py",
   "mimetype": "text/x-python",
   "name": "python",
   "nbconvert_exporter": "python",
   "pygments_lexer": "ipython3",
   "version": "3.11.5"
  }
 },
 "nbformat": 4,
 "nbformat_minor": 5
}
