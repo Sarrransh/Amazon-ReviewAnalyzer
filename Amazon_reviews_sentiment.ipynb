{
 "cells": [
  {
   "cell_type": "code",
   "execution_count": 52,
   "id": "92e20f84",
   "metadata": {},
   "outputs": [],
   "source": [
    "import pymysql\n",
    "import pandas as pd\n",
    "from textblob import TextBlob\n",
    "from langdetect import detect\n",
    "from langdetect.lang_detect_exception import LangDetectException"
   ]
  },
  {
   "cell_type": "code",
   "execution_count": 68,
   "id": "8fbe32ab",
   "metadata": {},
   "outputs": [
    {
     "name": "stderr",
     "output_type": "stream",
     "text": [
      "C:\\Users\\Administrator\\AppData\\Local\\Temp\\ipykernel_13140\\3075744983.py:11: UserWarning: pandas only supports SQLAlchemy connectable (engine/connection) or database string URI or sqlite3 DBAPI2 connection. Other DBAPI2 objects are not tested. Please consider using SQLAlchemy.\n",
      "  data = pd.read_sql(query, connection)\n"
     ]
    }
   ],
   "source": [
    "# Establish connection\n",
    "connection = pymysql.connect(\n",
    "    host='localhost',\n",
    "    user='root',\n",
    "    password='saransh',\n",
    "    database='amazon_reviews'\n",
    ")\n",
    "\n",
    "# Query data\n",
    "query = \"SELECT * FROM table1\"\n",
    "data = pd.read_sql(query, connection)\n",
    "\n",
    "# Close connection\n",
    "connection.close()\n"
   ]
  },
  {
   "cell_type": "code",
   "execution_count": 76,
   "id": "1b3d1963",
   "metadata": {},
   "outputs": [],
   "source": [
    "data['review_title'] = data['review_title'].str.replace('\\n', '')\n"
   ]
  },
  {
   "cell_type": "code",
   "execution_count": 8,
   "id": "fb1b8e66",
   "metadata": {},
   "outputs": [],
   "source": [
    "datasort = data.sort_values(\"review_rating\", ascending=True)\n",
    "\n"
   ]
  },
  {
   "cell_type": "code",
   "execution_count": 78,
   "id": "6a72d2e3",
   "metadata": {},
   "outputs": [
    {
     "data": {
      "text/html": [
       "<div>\n",
       "<style scoped>\n",
       "    .dataframe tbody tr th:only-of-type {\n",
       "        vertical-align: middle;\n",
       "    }\n",
       "\n",
       "    .dataframe tbody tr th {\n",
       "        vertical-align: top;\n",
       "    }\n",
       "\n",
       "    .dataframe thead th {\n",
       "        text-align: right;\n",
       "    }\n",
       "</style>\n",
       "<table border=\"1\" class=\"dataframe\">\n",
       "  <thead>\n",
       "    <tr style=\"text-align: right;\">\n",
       "      <th></th>\n",
       "      <th>id</th>\n",
       "      <th>review_title</th>\n",
       "      <th>review_rating</th>\n",
       "      <th>review_body</th>\n",
       "    </tr>\n",
       "  </thead>\n",
       "  <tbody>\n",
       "    <tr>\n",
       "      <th>0</th>\n",
       "      <td>1</td>\n",
       "      <td>Best AC in affordable prize</td>\n",
       "      <td>5</td>\n",
       "      <td>If you are looking for a complete package, the...</td>\n",
       "    </tr>\n",
       "    <tr>\n",
       "      <th>1</th>\n",
       "      <td>2</td>\n",
       "      <td>Worst brand and worst service</td>\n",
       "      <td>1</td>\n",
       "      <td>Bought it for my Kerala home and thought Daiki...</td>\n",
       "    </tr>\n",
       "    <tr>\n",
       "      <th>2</th>\n",
       "      <td>3</td>\n",
       "      <td>High quality product from Daikin</td>\n",
       "      <td>4</td>\n",
       "      <td>The delivery was quick and the AC was delivere...</td>\n",
       "    </tr>\n",
       "    <tr>\n",
       "      <th>3</th>\n",
       "      <td>4</td>\n",
       "      <td>One of the best AC out there + excellent remote?</td>\n",
       "      <td>5</td>\n",
       "      <td>If you are looking for a complete package, the...</td>\n",
       "    </tr>\n",
       "    <tr>\n",
       "      <th>4</th>\n",
       "      <td>5</td>\n",
       "      <td>Best cooling</td>\n",
       "      <td>5</td>\n",
       "      <td>Since I am using this last 2months cooling is ...</td>\n",
       "    </tr>\n",
       "  </tbody>\n",
       "</table>\n",
       "</div>"
      ],
      "text/plain": [
       "   id                                      review_title  review_rating  \\\n",
       "0   1                       Best AC in affordable prize              5   \n",
       "1   2                     Worst brand and worst service              1   \n",
       "2   3                  High quality product from Daikin              4   \n",
       "3   4  One of the best AC out there + excellent remote?              5   \n",
       "4   5                                      Best cooling              5   \n",
       "\n",
       "                                         review_body  \n",
       "0  If you are looking for a complete package, the...  \n",
       "1  Bought it for my Kerala home and thought Daiki...  \n",
       "2  The delivery was quick and the AC was delivere...  \n",
       "3  If you are looking for a complete package, the...  \n",
       "4  Since I am using this last 2months cooling is ...  "
      ]
     },
     "execution_count": 78,
     "metadata": {},
     "output_type": "execute_result"
    }
   ],
   "source": [
    "data.head()\n"
   ]
  },
  {
   "cell_type": "code",
   "execution_count": 79,
   "id": "577ca8fb",
   "metadata": {},
   "outputs": [],
   "source": [
    "newdata=data\n",
    "def is_english(text):\n",
    "    try:\n",
    "        return detect(text) == 'en'\n",
    "    except LangDetectException:\n",
    "        return False\n",
    "    \n",
    "rows_to_drop=[]\n",
    "    \n",
    "for index, row in data.iterrows():\n",
    "    if not (is_english(row['review_title']) and is_english(row['review_body'])):\n",
    "        rows_to_drop.append(index)\n",
    "\n",
    "# Drop rows from the DataFrame\n",
    "\n",
    "newdata.drop(rows_to_drop, inplace=True)\n",
    "\n"
   ]
  },
  {
   "cell_type": "code",
   "execution_count": 80,
   "id": "84b5acd2",
   "metadata": {},
   "outputs": [
    {
     "data": {
      "text/plain": [
       "(63, 4)"
      ]
     },
     "execution_count": 80,
     "metadata": {},
     "output_type": "execute_result"
    }
   ],
   "source": [
    "newdata.shape   #removed the reviews which were not written in english"
   ]
  },
  {
   "cell_type": "code",
   "execution_count": 81,
   "id": "f5b263d1",
   "metadata": {},
   "outputs": [
    {
     "data": {
      "text/html": [
       "<div>\n",
       "<style scoped>\n",
       "    .dataframe tbody tr th:only-of-type {\n",
       "        vertical-align: middle;\n",
       "    }\n",
       "\n",
       "    .dataframe tbody tr th {\n",
       "        vertical-align: top;\n",
       "    }\n",
       "\n",
       "    .dataframe thead th {\n",
       "        text-align: right;\n",
       "    }\n",
       "</style>\n",
       "<table border=\"1\" class=\"dataframe\">\n",
       "  <thead>\n",
       "    <tr style=\"text-align: right;\">\n",
       "      <th></th>\n",
       "      <th>id</th>\n",
       "      <th>review_title</th>\n",
       "      <th>review_rating</th>\n",
       "      <th>review_body</th>\n",
       "    </tr>\n",
       "  </thead>\n",
       "  <tbody>\n",
       "    <tr>\n",
       "      <th>0</th>\n",
       "      <td>1</td>\n",
       "      <td>Best AC in affordable prize</td>\n",
       "      <td>5</td>\n",
       "      <td>If you are looking for a complete package, the...</td>\n",
       "    </tr>\n",
       "    <tr>\n",
       "      <th>1</th>\n",
       "      <td>2</td>\n",
       "      <td>Worst brand and worst service</td>\n",
       "      <td>1</td>\n",
       "      <td>Bought it for my Kerala home and thought Daiki...</td>\n",
       "    </tr>\n",
       "    <tr>\n",
       "      <th>2</th>\n",
       "      <td>3</td>\n",
       "      <td>High quality product from Daikin</td>\n",
       "      <td>4</td>\n",
       "      <td>The delivery was quick and the AC was delivere...</td>\n",
       "    </tr>\n",
       "    <tr>\n",
       "      <th>3</th>\n",
       "      <td>4</td>\n",
       "      <td>One of the best AC out there + excellent remote?</td>\n",
       "      <td>5</td>\n",
       "      <td>If you are looking for a complete package, the...</td>\n",
       "    </tr>\n",
       "    <tr>\n",
       "      <th>4</th>\n",
       "      <td>5</td>\n",
       "      <td>Best cooling</td>\n",
       "      <td>5</td>\n",
       "      <td>Since I am using this last 2months cooling is ...</td>\n",
       "    </tr>\n",
       "    <tr>\n",
       "      <th>...</th>\n",
       "      <td>...</td>\n",
       "      <td>...</td>\n",
       "      <td>...</td>\n",
       "      <td>...</td>\n",
       "    </tr>\n",
       "    <tr>\n",
       "      <th>82</th>\n",
       "      <td>83</td>\n",
       "      <td>Not showing display</td>\n",
       "      <td>3</td>\n",
       "      <td>After installation ac 1.5  not showing display...</td>\n",
       "    </tr>\n",
       "    <tr>\n",
       "      <th>83</th>\n",
       "      <td>84</td>\n",
       "      <td>I have not reveive any demo card,catalog,remot...</td>\n",
       "      <td>3</td>\n",
       "      <td>I have not reveive any demo card,catalog,remot...</td>\n",
       "    </tr>\n",
       "    <tr>\n",
       "      <th>87</th>\n",
       "      <td>88</td>\n",
       "      <td>Pathetic bought</td>\n",
       "      <td>3</td>\n",
       "      <td>Don't buy DAIKIN AC in online.. they charged 3...</td>\n",
       "    </tr>\n",
       "    <tr>\n",
       "      <th>88</th>\n",
       "      <td>89</td>\n",
       "      <td>Price is misleading</td>\n",
       "      <td>3</td>\n",
       "      <td>The price is misleading as I had to pay four t...</td>\n",
       "    </tr>\n",
       "    <tr>\n",
       "      <th>89</th>\n",
       "      <td>90</td>\n",
       "      <td>Nice Trusted Brand for AC</td>\n",
       "      <td>5</td>\n",
       "      <td>Good product and awasome service.Let see how i...</td>\n",
       "    </tr>\n",
       "  </tbody>\n",
       "</table>\n",
       "<p>63 rows × 4 columns</p>\n",
       "</div>"
      ],
      "text/plain": [
       "    id                                       review_title  review_rating  \\\n",
       "0    1                        Best AC in affordable prize              5   \n",
       "1    2                      Worst brand and worst service              1   \n",
       "2    3                   High quality product from Daikin              4   \n",
       "3    4   One of the best AC out there + excellent remote?              5   \n",
       "4    5                                       Best cooling              5   \n",
       "..  ..                                                ...            ...   \n",
       "82  83                                Not showing display              3   \n",
       "83  84  I have not reveive any demo card,catalog,remot...              3   \n",
       "87  88                                    Pathetic bought              3   \n",
       "88  89                                Price is misleading              3   \n",
       "89  90                          Nice Trusted Brand for AC              5   \n",
       "\n",
       "                                          review_body  \n",
       "0   If you are looking for a complete package, the...  \n",
       "1   Bought it for my Kerala home and thought Daiki...  \n",
       "2   The delivery was quick and the AC was delivere...  \n",
       "3   If you are looking for a complete package, the...  \n",
       "4   Since I am using this last 2months cooling is ...  \n",
       "..                                                ...  \n",
       "82  After installation ac 1.5  not showing display...  \n",
       "83  I have not reveive any demo card,catalog,remot...  \n",
       "87  Don't buy DAIKIN AC in online.. they charged 3...  \n",
       "88  The price is misleading as I had to pay four t...  \n",
       "89  Good product and awasome service.Let see how i...  \n",
       "\n",
       "[63 rows x 4 columns]"
      ]
     },
     "execution_count": 81,
     "metadata": {},
     "output_type": "execute_result"
    }
   ],
   "source": [
    "newdata"
   ]
  },
  {
   "cell_type": "code",
   "execution_count": 85,
   "id": "bf456a69",
   "metadata": {},
   "outputs": [
    {
     "data": {
      "text/plain": [
       "'If you are looking for a complete package, then look nowhere other than Daikin.I purchased the  AC 1.5 mnths ago, and until now I am impressed with what it has to offer. Installation went super smooth. The installation guys came within the same day. The installation process started, and it was done in 3 hours max.Also, for those people who are saying that they are charging money even when installation is free, you guys have no idea about how AC installation is done.The extra charges can vary heavily depending on the amount of material needed including pipe, tape and so on. In my case, it cost me 5000INR, and I am super happy with it.The build quality of the AC is excellent. The internal unit looks sleek and modern. The AC functions as advertised. It  cools very nicely.Overall ValueThe overall value of the AC is just excellent. It is affordable and enables you to enjoy with minimal electricity bills.'"
      ]
     },
     "execution_count": 85,
     "metadata": {},
     "output_type": "execute_result"
    }
   ],
   "source": [
    "is_english(data['review_body'][0])\n",
    "data['review_body'][0]"
   ]
  },
  {
   "cell_type": "code",
   "execution_count": 82,
   "id": "0b42de10",
   "metadata": {},
   "outputs": [
    {
     "data": {
      "text/plain": [
       "id                                               10\n",
       "review_title                          Great cooling\n",
       "review_rating                                     4\n",
       "review_body      Great cooling and value for money.\n",
       "Name: 9, dtype: object"
      ]
     },
     "execution_count": 82,
     "metadata": {},
     "output_type": "execute_result"
    }
   ],
   "source": [
    "data.iloc[7]"
   ]
  },
  {
   "cell_type": "code",
   "execution_count": 72,
   "id": "7496c1f9",
   "metadata": {},
   "outputs": [
    {
     "data": {
      "text/plain": [
       "[7,\n",
       " 8,\n",
       " 10,\n",
       " 13,\n",
       " 20,\n",
       " 22,\n",
       " 23,\n",
       " 25,\n",
       " 27,\n",
       " 30,\n",
       " 32,\n",
       " 33,\n",
       " 41,\n",
       " 48,\n",
       " 50,\n",
       " 51,\n",
       " 52,\n",
       " 57,\n",
       " 62,\n",
       " 67,\n",
       " 75,\n",
       " 79,\n",
       " 80,\n",
       " 81,\n",
       " 84,\n",
       " 85,\n",
       " 86]"
      ]
     },
     "execution_count": 72,
     "metadata": {},
     "output_type": "execute_result"
    }
   ],
   "source": [
    "rows_to_drop"
   ]
  },
  {
   "cell_type": "code",
   "execution_count": null,
   "id": "3d1c5b5d",
   "metadata": {},
   "outputs": [],
   "source": []
  }
 ],
 "metadata": {
  "kernelspec": {
   "display_name": "Python 3 (ipykernel)",
   "language": "python",
   "name": "python3"
  },
  "language_info": {
   "codemirror_mode": {
    "name": "ipython",
    "version": 3
   },
   "file_extension": ".py",
   "mimetype": "text/x-python",
   "name": "python",
   "nbconvert_exporter": "python",
   "pygments_lexer": "ipython3",
   "version": "3.11.5"
  }
 },
 "nbformat": 4,
 "nbformat_minor": 5
}
