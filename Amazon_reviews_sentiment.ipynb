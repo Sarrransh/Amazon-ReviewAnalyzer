{
 "cells": [
  {
   "cell_type": "code",
   "execution_count": 36,
   "id": "92e20f84",
   "metadata": {},
   "outputs": [],
   "source": [
    "import pymysql\n",
    "import pandas as pd\n",
    "from textblob import TextBlob\n",
    "from langdetect import detect\n",
    "from langdetect.lang_detect_exception import LangDetectException"
   ]
  },
  {
   "cell_type": "code",
   "execution_count": 37,
   "id": "8fbe32ab",
   "metadata": {},
   "outputs": [
    {
     "name": "stderr",
     "output_type": "stream",
     "text": [
      "C:\\Users\\Administrator\\AppData\\Local\\Temp\\ipykernel_12776\\3075744983.py:11: UserWarning: pandas only supports SQLAlchemy connectable (engine/connection) or database string URI or sqlite3 DBAPI2 connection. Other DBAPI2 objects are not tested. Please consider using SQLAlchemy.\n",
      "  data = pd.read_sql(query, connection)\n"
     ]
    }
   ],
   "source": [
    "# Establish connection\n",
    "connection = pymysql.connect(\n",
    "    host='localhost',\n",
    "    user='root',\n",
    "    password='saransh',\n",
    "    database='amazon_reviews'\n",
    ")\n",
    "\n",
    "# Query data\n",
    "query = \"SELECT * FROM table1\"\n",
    "data = pd.read_sql(query, connection)\n",
    "\n",
    "# Close connection\n",
    "connection.close()\n"
   ]
  },
  {
   "cell_type": "code",
   "execution_count": 38,
   "id": "2f86643b",
   "metadata": {},
   "outputs": [],
   "source": [
    "newdata=data.copy()\n",
    "\n",
    "#copy the data of the dataframe into a new cell so that we have a whole new dataframe to do our cleaning of the data\n",
    "#  and some other operations"
   ]
  },
  {
   "cell_type": "code",
   "execution_count": 39,
   "id": "1b3d1963",
   "metadata": {},
   "outputs": [],
   "source": [
    "newdata['review_title'] = newdata['review_title'].str.replace('\\n', '')\n",
    "#The data which we have gathered has \\n in the end of it due to some error in the code, to remove it for better \n",
    "# sentiment analysis we are replacing the \\n with ''"
   ]
  },
  {
   "cell_type": "code",
   "execution_count": 40,
   "id": "fb1b8e66",
   "metadata": {},
   "outputs": [],
   "source": [
    "#cleaning the data : the reviews may contain some reviews in which either there are null values or some reviews\n",
    "#  which are in other language than english, we remove such rows from the dataframe\n",
    "\n",
    "def is_english(text):\n",
    "    try:\n",
    "        return detect(text) == 'en'\n",
    "    except LangDetectException:\n",
    "        return False\n",
    "    \n",
    "rows_to_drop=[]\n",
    "    \n",
    "for index, row in data.iterrows():\n",
    "    if not (is_english(row['review_body'])):\n",
    "        rows_to_drop.append(index)\n",
    "    \n",
    "\n",
    "# Drop rows from the DataFrame\n",
    "\n",
    "newdata.drop(rows_to_drop, inplace=True)\n",
    "\n"
   ]
  },
  {
   "cell_type": "code",
   "execution_count": 41,
   "id": "6a72d2e3",
   "metadata": {},
   "outputs": [
    {
     "data": {
      "text/plain": [
       "(90, 4)"
      ]
     },
     "execution_count": 41,
     "metadata": {},
     "output_type": "execute_result"
    }
   ],
   "source": [
    "data.shape"
   ]
  },
  {
   "cell_type": "code",
   "execution_count": 44,
   "id": "577ca8fb",
   "metadata": {},
   "outputs": [
    {
     "data": {
      "text/plain": [
       "(81, 4)"
      ]
     },
     "execution_count": 44,
     "metadata": {},
     "output_type": "execute_result"
    }
   ],
   "source": [
    "\n",
    "newdata.shape"
   ]
  },
  {
   "cell_type": "code",
   "execution_count": 43,
   "id": "84b5acd2",
   "metadata": {},
   "outputs": [],
   "source": [
    "newdata.dropna(subset=['review_title'], inplace=True)\n",
    "newdata.dropna(subset=['review_body'], inplace=True)\n",
    "newdata.dropna(subset=['review_rating'], inplace=True)\n",
    "\n",
    "#removing all the rows which have null values, if there are any"
   ]
  },
  {
   "cell_type": "code",
   "execution_count": 27,
   "id": "f5b263d1",
   "metadata": {},
   "outputs": [
    {
     "data": {
      "text/plain": [
       "[10, 13, 20, 22, 41, 51, 67, 75, 84]"
      ]
     },
     "execution_count": 27,
     "metadata": {},
     "output_type": "execute_result"
    }
   ],
   "source": [
    "#done with the data cleaning till the above cell\n",
    "#-------------------------------------------------------------------------------"
   ]
  },
  {
   "cell_type": "code",
   "execution_count": 29,
   "id": "bf456a69",
   "metadata": {},
   "outputs": [
    {
     "data": {
      "text/plain": [
       "''"
      ]
     },
     "execution_count": 29,
     "metadata": {},
     "output_type": "execute_result"
    }
   ],
   "source": [
    "#is_english(data['review_title'][7])\n",
    "data['review_body'][10]"
   ]
  },
  {
   "cell_type": "code",
   "execution_count": 31,
   "id": "0b42de10",
   "metadata": {},
   "outputs": [
    {
     "data": {
      "text/html": [
       "<div>\n",
       "<style scoped>\n",
       "    .dataframe tbody tr th:only-of-type {\n",
       "        vertical-align: middle;\n",
       "    }\n",
       "\n",
       "    .dataframe tbody tr th {\n",
       "        vertical-align: top;\n",
       "    }\n",
       "\n",
       "    .dataframe thead th {\n",
       "        text-align: right;\n",
       "    }\n",
       "</style>\n",
       "<table border=\"1\" class=\"dataframe\">\n",
       "  <thead>\n",
       "    <tr style=\"text-align: right;\">\n",
       "      <th></th>\n",
       "      <th>id</th>\n",
       "      <th>review_title</th>\n",
       "      <th>review_rating</th>\n",
       "      <th>review_body</th>\n",
       "    </tr>\n",
       "  </thead>\n",
       "  <tbody>\n",
       "    <tr>\n",
       "      <th>0</th>\n",
       "      <td>1</td>\n",
       "      <td>Best AC in affordable prize</td>\n",
       "      <td>5</td>\n",
       "      <td>If you are looking for a complete package, the...</td>\n",
       "    </tr>\n",
       "    <tr>\n",
       "      <th>1</th>\n",
       "      <td>2</td>\n",
       "      <td>Worst brand and worst service</td>\n",
       "      <td>1</td>\n",
       "      <td>Bought it for my Kerala home and thought Daiki...</td>\n",
       "    </tr>\n",
       "    <tr>\n",
       "      <th>2</th>\n",
       "      <td>3</td>\n",
       "      <td>High quality product from Daikin</td>\n",
       "      <td>4</td>\n",
       "      <td>The delivery was quick and the AC was delivere...</td>\n",
       "    </tr>\n",
       "    <tr>\n",
       "      <th>3</th>\n",
       "      <td>4</td>\n",
       "      <td>One of the best AC out there + excellent remote?</td>\n",
       "      <td>5</td>\n",
       "      <td>If you are looking for a complete package, the...</td>\n",
       "    </tr>\n",
       "    <tr>\n",
       "      <th>4</th>\n",
       "      <td>5</td>\n",
       "      <td>Best cooling</td>\n",
       "      <td>5</td>\n",
       "      <td>Since I am using this last 2months cooling is ...</td>\n",
       "    </tr>\n",
       "    <tr>\n",
       "      <th>5</th>\n",
       "      <td>6</td>\n",
       "      <td>Good cooling but fails on high temperatures. A...</td>\n",
       "      <td>3</td>\n",
       "      <td>Good ac. But I'm from Rajasthan and on extreme...</td>\n",
       "    </tr>\n",
       "    <tr>\n",
       "      <th>6</th>\n",
       "      <td>7</td>\n",
       "      <td>Cool AC</td>\n",
       "      <td>4</td>\n",
       "      <td>Bought this Daikin AC back in Jan 2024 for my ...</td>\n",
       "    </tr>\n",
       "    <tr>\n",
       "      <th>7</th>\n",
       "      <td>8</td>\n",
       "      <td>Daikin AC review</td>\n",
       "      <td>4</td>\n",
       "      <td>Pros: The product quality is good. Delivery wa...</td>\n",
       "    </tr>\n",
       "    <tr>\n",
       "      <th>8</th>\n",
       "      <td>9</td>\n",
       "      <td>Good</td>\n",
       "      <td>4</td>\n",
       "      <td>Less machine noise , better cooling , user fri...</td>\n",
       "    </tr>\n",
       "    <tr>\n",
       "      <th>9</th>\n",
       "      <td>10</td>\n",
       "      <td>Great cooling</td>\n",
       "      <td>4</td>\n",
       "      <td>Great cooling and value for money.</td>\n",
       "    </tr>\n",
       "    <tr>\n",
       "      <th>10</th>\n",
       "      <td>11</td>\n",
       "      <td>Nice products</td>\n",
       "      <td>4</td>\n",
       "      <td></td>\n",
       "    </tr>\n",
       "  </tbody>\n",
       "</table>\n",
       "</div>"
      ],
      "text/plain": [
       "    id                                       review_title  review_rating  \\\n",
       "0    1                        Best AC in affordable prize              5   \n",
       "1    2                      Worst brand and worst service              1   \n",
       "2    3                   High quality product from Daikin              4   \n",
       "3    4   One of the best AC out there + excellent remote?              5   \n",
       "4    5                                       Best cooling              5   \n",
       "5    6  Good cooling but fails on high temperatures. A...              3   \n",
       "6    7                                            Cool AC              4   \n",
       "7    8                                   Daikin AC review              4   \n",
       "8    9                                               Good              4   \n",
       "9   10                                      Great cooling              4   \n",
       "10  11                                      Nice products              4   \n",
       "\n",
       "                                          review_body  \n",
       "0   If you are looking for a complete package, the...  \n",
       "1   Bought it for my Kerala home and thought Daiki...  \n",
       "2   The delivery was quick and the AC was delivere...  \n",
       "3   If you are looking for a complete package, the...  \n",
       "4   Since I am using this last 2months cooling is ...  \n",
       "5   Good ac. But I'm from Rajasthan and on extreme...  \n",
       "6   Bought this Daikin AC back in Jan 2024 for my ...  \n",
       "7   Pros: The product quality is good. Delivery wa...  \n",
       "8   Less machine noise , better cooling , user fri...  \n",
       "9                  Great cooling and value for money.  \n",
       "10                                                     "
      ]
     },
     "execution_count": 31,
     "metadata": {},
     "output_type": "execute_result"
    }
   ],
   "source": [
    "data.head(11)"
   ]
  },
  {
   "cell_type": "code",
   "execution_count": 68,
   "id": "7496c1f9",
   "metadata": {},
   "outputs": [
    {
     "name": "stderr",
     "output_type": "stream",
     "text": [
      "[nltk_data] Downloading package punkt to\n",
      "[nltk_data]     C:\\Users\\Administrator\\AppData\\Roaming\\nltk_data...\n",
      "[nltk_data]   Package punkt is already up-to-date!\n",
      "[nltk_data] Downloading package averaged_perceptron_tagger to\n",
      "[nltk_data]     C:\\Users\\Administrator\\AppData\\Roaming\\nltk_data...\n",
      "[nltk_data]   Package averaged_perceptron_tagger is already up-to-\n",
      "[nltk_data]       date!\n",
      "[nltk_data] Downloading package maxent_ne_chunker to\n",
      "[nltk_data]     C:\\Users\\Administrator\\AppData\\Roaming\\nltk_data...\n",
      "[nltk_data]   Package maxent_ne_chunker is already up-to-date!\n",
      "[nltk_data] Downloading package words to\n",
      "[nltk_data]     C:\\Users\\Administrator\\AppData\\Roaming\\nltk_data...\n",
      "[nltk_data]   Unzipping corpora\\words.zip.\n"
     ]
    },
    {
     "data": {
      "text/plain": [
       "True"
      ]
     },
     "execution_count": 68,
     "metadata": {},
     "output_type": "execute_result"
    }
   ],
   "source": [
    "import numpy as np\n",
    "import matplotlib.pyplot as plt\n",
    "import seaborn as sns\n",
    "\n",
    "plt.style.use('ggplot')\n",
    "\n",
    "import nltk\n",
    "nltk.download('punkt')\n",
    "nltk.download('averaged_perceptron_tagger')\n",
    "nltk.download('maxent_ne_chunker')\n",
    "nltk.download('words')\n",
    "nltk.download('vader_lexicon')"
   ]
  },
  {
   "cell_type": "code",
   "execution_count": 75,
   "id": "f7141b85",
   "metadata": {},
   "outputs": [
    {
     "data": {
      "text/plain": [
       "<nltk.sentiment.vader.SentimentIntensityAnalyzer at 0x251aff8b6d0>"
      ]
     },
     "execution_count": 75,
     "metadata": {},
     "output_type": "execute_result"
    }
   ],
   "source": []
  },
  {
   "cell_type": "code",
   "execution_count": 73,
   "id": "3d1c5b5d",
   "metadata": {},
   "outputs": [
    {
     "name": "stderr",
     "output_type": "stream",
     "text": [
      "[nltk_data] Downloading package vader_lexicon to\n",
      "[nltk_data]     C:\\Users\\Administrator\\AppData\\Roaming\\nltk_data...\n"
     ]
    },
    {
     "data": {
      "text/plain": [
       "True"
      ]
     },
     "execution_count": 73,
     "metadata": {},
     "output_type": "execute_result"
    }
   ],
   "source": [
    "df1 =  newdata.copy()\n"
   ]
  },
  {
   "cell_type": "code",
   "execution_count": 52,
   "id": "5d0fbe19",
   "metadata": {},
   "outputs": [
    {
     "data": {
      "image/png": "[encoded data removed]",
      "text/plain": [
       "<Figure size 1000x500 with 1 Axes>"
      ]
     },
     "metadata": {},
     "output_type": "display_data"
    }
   ],
   "source": [
    " ax = df1['review_rating'].value_counts().sort_index().plot(kind='bar', title='Count of reviews by stars', figsize=(10,5))\n",
    "\n",
    "ax.set_xlabel('reviews stars')\n",
    "\n",
    "plt.show()"
   ]
  },
  {
   "cell_type": "code",
   "execution_count": 53,
   "id": "981bb23f",
   "metadata": {},
   "outputs": [
    {
     "data": {
      "text/plain": [
       "'Daikin is a reputed brand in Air conditioning however their after sales service is pathetic. I ordered 1.5 ton AC and no one came for installation for past 5 days. Their won’t be any quality issue but after sales service is poor.'"
      ]
     },
     "execution_count": 53,
     "metadata": {},
     "output_type": "execute_result"
    }
   ],
   "source": [
    "example = df1['review_body'][50]\n",
    "example"
   ]
  },
  {
   "cell_type": "code",
   "execution_count": 63,
   "id": "6dc15e18",
   "metadata": {},
   "outputs": [
    {
     "data": {
      "text/plain": [
       "[('Daikin', 'NNP'),\n",
       " ('is', 'VBZ'),\n",
       " ('a', 'DT'),\n",
       " ('reputed', 'JJ'),\n",
       " ('brand', 'NN'),\n",
       " ('in', 'IN'),\n",
       " ('Air', 'NNP'),\n",
       " ('conditioning', 'VBG'),\n",
       " ('however', 'RB'),\n",
       " ('their', 'PRP$')]"
      ]
     },
     "execution_count": 63,
     "metadata": {},
     "output_type": "execute_result"
    }
   ],
   "source": [
    "token = nltk.word_tokenize(example)\n",
    "tagged=nltk.pos_tag(token)\n",
    "\n",
    "tagged[:10]"
   ]
  },
  {
   "cell_type": "code",
   "execution_count": 59,
   "id": "0124c6dc",
   "metadata": {},
   "outputs": [
    {
     "name": "stdout",
     "output_type": "stream",
     "text": [
      "Requirement already satisfied: nltk in c:\\users\\administrator\\anaconda3\\lib\\site-packages (3.8.1)\n",
      "Requirement already satisfied: click in c:\\users\\administrator\\anaconda3\\lib\\site-packages (from nltk) (8.1.7)\n",
      "Requirement already satisfied: joblib in c:\\users\\administrator\\anaconda3\\lib\\site-packages (from nltk) (1.2.0)\n",
      "Requirement already satisfied: regex>=2021.8.3 in c:\\users\\administrator\\anaconda3\\lib\\site-packages (from nltk) (2022.7.9)\n",
      "Requirement already satisfied: tqdm in c:\\users\\administrator\\anaconda3\\lib\\site-packages (from nltk) (4.65.0)\n",
      "Requirement already satisfied: colorama in c:\\users\\administrator\\anaconda3\\lib\\site-packages (from click->nltk) (0.4.6)\n",
      "Note: you may need to restart the kernel to use updated packages.\n"
     ]
    }
   ],
   "source": [
    "pip install nltk"
   ]
  },
  {
   "cell_type": "code",
   "execution_count": 69,
   "id": "2f624fe4",
   "metadata": {},
   "outputs": [
    {
     "name": "stdout",
     "output_type": "stream",
     "text": [
      "(S\n",
      "  (GPE Daikin/NNP)\n",
      "  is/VBZ\n",
      "  a/DT\n",
      "  reputed/JJ\n",
      "  brand/NN\n",
      "  in/IN\n",
      "  (GPE Air/NNP)\n",
      "  conditioning/VBG\n",
      "  however/RB\n",
      "  their/PRP$\n",
      "  after/IN\n",
      "  sales/NNS\n",
      "  service/NN\n",
      "  is/VBZ\n",
      "  pathetic/JJ\n",
      "  ./.\n",
      "  I/PRP\n",
      "  ordered/VBD\n",
      "  1.5/CD\n",
      "  ton/NN\n",
      "  (ORGANIZATION AC/NNP)\n",
      "  and/CC\n",
      "  no/DT\n",
      "  one/NN\n",
      "  came/VBD\n",
      "  for/IN\n",
      "  installation/NN\n",
      "  for/IN\n",
      "  past/JJ\n",
      "  5/CD\n",
      "  days/NNS\n",
      "  ./.\n",
      "  Their/PRP$\n",
      "  won/VBD\n",
      "  ’/NNP\n",
      "  t/NN\n",
      "  be/VB\n",
      "  any/DT\n",
      "  quality/JJ\n",
      "  issue/NN\n",
      "  but/CC\n",
      "  after/IN\n",
      "  sales/NNS\n",
      "  service/NN\n",
      "  is/VBZ\n",
      "  poor/JJ\n",
      "  ./.)\n"
     ]
    }
   ],
   "source": [
    "tagchunk=nltk.chunk.ne_chunk(tagged)\n",
    "tagchunk.pprint()"
   ]
  },
  {
   "cell_type": "markdown",
   "id": "99b06773",
   "metadata": {},
   "source": [
    "HERE STARTS THE REAL SENTIMENT ANALYSIS (VADER)"
   ]
  },
  {
   "cell_type": "code",
   "execution_count": 76,
   "id": "b1b7f28e",
   "metadata": {},
   "outputs": [
    {
     "data": {
      "text/plain": [
       "<nltk.sentiment.vader.SentimentIntensityAnalyzer at 0x251b5d8b6d0>"
      ]
     },
     "execution_count": 76,
     "metadata": {},
     "output_type": "execute_result"
    }
   ],
   "source": [
    "from nltk.sentiment import SentimentIntensityAnalyzer\n",
    "from tqdm.notebook import tqdm\n",
    "sia = SentimentIntensityAnalyzer()\n",
    "\n",
    "sia"
   ]
  },
  {
   "cell_type": "code",
   "execution_count": 77,
   "id": "9bbecdc4",
   "metadata": {},
   "outputs": [
    {
     "data": {
      "text/plain": [
       "{'neg': 0.0, 'neu': 0.334, 'pos': 0.666, 'compound': 0.6115}"
      ]
     },
     "execution_count": 77,
     "metadata": {},
     "output_type": "execute_result"
    }
   ],
   "source": [
    "sia.polarity_scores('I am very happy')"
   ]
  },
  {
   "cell_type": "code",
   "execution_count": 79,
   "id": "d990084c",
   "metadata": {},
   "outputs": [
    {
     "data": {
      "text/plain": [
       "{'neg': 0.184, 'neu': 0.816, 'pos': 0.0, 'compound': -0.7964}"
      ]
     },
     "execution_count": 79,
     "metadata": {},
     "output_type": "execute_result"
    }
   ],
   "source": [
    "sia.polarity_scores(example)"
   ]
  },
  {
   "cell_type": "code",
   "execution_count": 100,
   "id": "216782f5",
   "metadata": {},
   "outputs": [
    {
     "data": {
      "application/vnd.jupyter.widget-view+json": {
       "model_id": "9640247fe1d94e0c816828df6977fb71",
       "version_major": 2,
       "version_minor": 0
      },
      "text/plain": [
       "  0%|          | 0/81 [00:00<?, ?it/s]"
      ]
     },
     "metadata": {},
     "output_type": "display_data"
    }
   ],
   "source": [
    "res_title = {}\n",
    "for i, row in tqdm(df1.iterrows(),total=len(df1)):\n",
    "    title = row['review_title']\n",
    "    myId = row['id']\n",
    "    res_title[myId]= sia.polarity_scores(title)"
   ]
  },
  {
   "cell_type": "code",
   "execution_count": 103,
   "id": "7654d191",
   "metadata": {},
   "outputs": [
    {
     "data": {
      "text/html": [
       "<div>\n",
       "<style scoped>\n",
       "    .dataframe tbody tr th:only-of-type {\n",
       "        vertical-align: middle;\n",
       "    }\n",
       "\n",
       "    .dataframe tbody tr th {\n",
       "        vertical-align: top;\n",
       "    }\n",
       "\n",
       "    .dataframe thead th {\n",
       "        text-align: right;\n",
       "    }\n",
       "</style>\n",
       "<table border=\"1\" class=\"dataframe\">\n",
       "  <thead>\n",
       "    <tr style=\"text-align: right;\">\n",
       "      <th></th>\n",
       "      <th>neg</th>\n",
       "      <th>neu</th>\n",
       "      <th>pos</th>\n",
       "      <th>compound</th>\n",
       "    </tr>\n",
       "  </thead>\n",
       "  <tbody>\n",
       "    <tr>\n",
       "      <th>1</th>\n",
       "      <td>0.000</td>\n",
       "      <td>0.286</td>\n",
       "      <td>0.714</td>\n",
       "      <td>0.8176</td>\n",
       "    </tr>\n",
       "    <tr>\n",
       "      <th>2</th>\n",
       "      <td>0.732</td>\n",
       "      <td>0.268</td>\n",
       "      <td>0.000</td>\n",
       "      <td>-0.8481</td>\n",
       "    </tr>\n",
       "    <tr>\n",
       "      <th>3</th>\n",
       "      <td>0.000</td>\n",
       "      <td>1.000</td>\n",
       "      <td>0.000</td>\n",
       "      <td>0.0000</td>\n",
       "    </tr>\n",
       "    <tr>\n",
       "      <th>4</th>\n",
       "      <td>0.000</td>\n",
       "      <td>0.470</td>\n",
       "      <td>0.530</td>\n",
       "      <td>0.8360</td>\n",
       "    </tr>\n",
       "    <tr>\n",
       "      <th>5</th>\n",
       "      <td>0.000</td>\n",
       "      <td>0.192</td>\n",
       "      <td>0.808</td>\n",
       "      <td>0.6369</td>\n",
       "    </tr>\n",
       "    <tr>\n",
       "      <th>...</th>\n",
       "      <td>...</td>\n",
       "      <td>...</td>\n",
       "      <td>...</td>\n",
       "      <td>...</td>\n",
       "    </tr>\n",
       "    <tr>\n",
       "      <th>86</th>\n",
       "      <td>0.000</td>\n",
       "      <td>1.000</td>\n",
       "      <td>0.000</td>\n",
       "      <td>0.0000</td>\n",
       "    </tr>\n",
       "    <tr>\n",
       "      <th>87</th>\n",
       "      <td>0.000</td>\n",
       "      <td>0.000</td>\n",
       "      <td>1.000</td>\n",
       "      <td>0.5719</td>\n",
       "    </tr>\n",
       "    <tr>\n",
       "      <th>88</th>\n",
       "      <td>0.787</td>\n",
       "      <td>0.213</td>\n",
       "      <td>0.000</td>\n",
       "      <td>-0.5719</td>\n",
       "    </tr>\n",
       "    <tr>\n",
       "      <th>89</th>\n",
       "      <td>0.574</td>\n",
       "      <td>0.426</td>\n",
       "      <td>0.000</td>\n",
       "      <td>-0.4019</td>\n",
       "    </tr>\n",
       "    <tr>\n",
       "      <th>90</th>\n",
       "      <td>0.000</td>\n",
       "      <td>0.337</td>\n",
       "      <td>0.663</td>\n",
       "      <td>0.7096</td>\n",
       "    </tr>\n",
       "  </tbody>\n",
       "</table>\n",
       "<p>81 rows × 4 columns</p>\n",
       "</div>"
      ],
      "text/plain": [
       "      neg    neu    pos  compound\n",
       "1   0.000  0.286  0.714    0.8176\n",
       "2   0.732  0.268  0.000   -0.8481\n",
       "3   0.000  1.000  0.000    0.0000\n",
       "4   0.000  0.470  0.530    0.8360\n",
       "5   0.000  0.192  0.808    0.6369\n",
       "..    ...    ...    ...       ...\n",
       "86  0.000  1.000  0.000    0.0000\n",
       "87  0.000  0.000  1.000    0.5719\n",
       "88  0.787  0.213  0.000   -0.5719\n",
       "89  0.574  0.426  0.000   -0.4019\n",
       "90  0.000  0.337  0.663    0.7096\n",
       "\n",
       "[81 rows x 4 columns]"
      ]
     },
     "execution_count": 103,
     "metadata": {},
     "output_type": "execute_result"
    }
   ],
   "source": [
    "res_title = pd.DataFrame(res_title).T\n",
    "res_title"
   ]
  },
  {
   "cell_type": "code",
   "execution_count": 80,
   "id": "0f16f456",
   "metadata": {},
   "outputs": [
    {
     "data": {
      "application/vnd.jupyter.widget-view+json": {
       "model_id": "47fd5225a46546558a477e055cbd831b",
       "version_major": 2,
       "version_minor": 0
      },
      "text/plain": [
       "  0%|          | 0/81 [00:00<?, ?it/s]"
      ]
     },
     "metadata": {},
     "output_type": "display_data"
    }
   ],
   "source": [
    "res_body = {}\n",
    "for i, row in tqdm(df1.iterrows(),total=len(df1)):\n",
    "    body = row['review_body']\n",
    "    myId = row['id']\n",
    "    res_body[myId]= sia.polarity_scores(body)\n"
   ]
  },
  {
   "cell_type": "code",
   "execution_count": null,
   "id": "a4e79d63",
   "metadata": {},
   "outputs": [],
   "source": [
    "res_body = pd.DataFrame(res_body).T\n",
    "res_body"
   ]
  },
  {
   "cell_type": "code",
   "execution_count": 98,
   "id": "f1be51f2",
   "metadata": {},
   "outputs": [
    {
     "data": {
      "text/plain": [
       "'Bought it for my Kerala home and thought Daikin is a know brand and I would like it. But, I was wrong. From day 1, the cooling of the AC is abominable. It starts slowly and reaches at around 90-97% compressor capacity and after a little time starts reducing its capacity and stays at 45-55% then after. Reported the issue to the company and they sent technician from some Giant Air System and they say that ambient temperature is high and that’s why it’s like that. I wonder that if 34 degrees ambient temperature is high for this AC, what would happen to people who buy it for Delhi or places like that? It’s been more than 25 days since I’ve registered the complaint and have called Giant Air Systems multiple times but till date they have not attended it.My suggestion would is people, don’t buy this brand. Their service is poor and you will regret your decision like I am right now.Update 14/03/24 - The guy (I think he is some senior tech guy from service team) visited on 13/02/24 and checked the system with gas pressure monitor and found nothing wrong with the gas pressure. It was around 140 when operating and he told me that it’s fine. Then apparently he flushed the gas a little bit and told me that sometimes it’s needed to do so to let the trapped air release from the system and it can help. He did check rest of the operations. He explained a lot of things and some key takeaways are-1. The display room temperature is always adjusted 2-3 degrees higher than the actual room temperature so that the machine could keep on working on keeping the room temperature to a comfortable levels when people open the doors or windows of that room for something.2. He taught me how without any equipment one can test and find that the AC gas pressure and other functions are ok. The method is - just go to the outdoor unit and check the pipe temperature of both in and out pipes and if they are somewhat similar in temperature, that means the rotation of the gas is perfect and there is no need to worry. On the other hand if there is a big variation in temperature of in and out pipes, one should ask the technician to come and check.3. Even if we set 18 degree as the required temperature for the room, it will never really reach that level in practical conditions. So, we must be ok with that as well and I think that’s fair enough.4. He asked me to keep the AC at 24 degrees preferably and that would give you the most comfortable room condition and I agree with him.5. These are smart ACs and they are designed to operate with minimal power consumption and hence you may find the load on compressor varying at times.He said sometimes the trapped air in the system can cause a bit issue with cooling but I am not sure how and if that air can be removed from the system when it is already mixed with the gas in compressor.First day of use after flushing it was better compared to previous days. The system didn’t drop performance and did some work to cool the room. At 24 degrees, it felt cool enough and I think it’s improved.Will share more after a few days of checking it. Increasing the rating from 1 star to 3 star for the well behaved technician from Giant air systems ( actually every technician who visited from Giant was well behaved and gentleman, it’s just my frustration with the delay in their response which got be cribbing about them ;) ha ha haa…)'"
      ]
     },
     "execution_count": 98,
     "metadata": {},
     "output_type": "execute_result"
    }
   ],
   "source": [
    "vader=pd.DataFrame(res) \n",
    "vader=vader.T\n",
    "\n",
    "vader = vader.reset_index().rename(columns={'index': 'id'})\n",
    "vader = vader[['id','compound']].merge(df1,how='right')\n",
    "vader = vader.rename(columns={'compound': 'vader_compound'})\n",
    "vader['review_body'][1]"
   ]
  },
  {
   "cell_type": "code",
   "execution_count": 99,
   "id": "b118eadf",
   "metadata": {},
   "outputs": [
    {
     "data": {
      "text/plain": [
       "{'neg': 0.081, 'neu': 0.803, 'pos': 0.116, 'compound': 0.9697}"
      ]
     },
     "execution_count": 99,
     "metadata": {},
     "output_type": "execute_result"
    }
   ],
   "source": [
    "sia.polarity_scores('Bought it for my Kerala home and thought Daikin is a know brand and I would like it. But, I was wrong. From day 1, the cooling of the AC is abominable. It starts slowly and reaches at around 90-97% compressor capacity and after a little time starts reducing its capacity and stays at 45-55% then after. Reported the issue to the company and they sent technician from some Giant Air System and they say that ambient temperature is high and that’s why it’s like that. I wonder that if 34 degrees ambient temperature is high for this AC, what would happen to people who buy it for Delhi or places like that? It’s been more than 25 days since I’ve registered the complaint and have called Giant Air Systems multiple times but till date they have not attended it.My suggestion would is people, don’t buy this brand. Their service is poor and you will regret your decision like I am right now.Update 14/03/24 - The guy (I think he is some senior tech guy from service team) visited on 13/02/24 and checked the system with gas pressure monitor and found nothing wrong with the gas pressure. It was around 140 when operating and he told me that it’s fine. Then apparently he flushed the gas a little bit and told me that sometimes it’s needed to do so to let the trapped air release from the system and it can help. He did check rest of the operations. He explained a lot of things and some key takeaways are-1. The display room temperature is always adjusted 2-3 degrees higher than the actual room temperature so that the machine could keep on working on keeping the room temperature to a comfortable levels when people open the doors or windows of that room for something.2. He taught me how without any equipment one can test and find that the AC gas pressure and other functions are ok. The method is - just go to the outdoor unit and check the pipe temperature of both in and out pipes and if they are somewhat similar in temperature, that means the rotation of the gas is perfect and there is no need to worry. On the other hand if there is a big variation in temperature of in and out pipes, one should ask the technician to come and check.3. Even if we set 18 degree as the required temperature for the room, it will never really reach that level in practical conditions. So, we must be ok with that as well and I think that’s fair enough.4. He asked me to keep the AC at 24 degrees preferably and that would give you the most comfortable room condition and I agree with him.5. These are smart ACs and they are designed to operate with minimal power consumption and hence you may find the load on compressor varying at times.He said sometimes the trapped air in the system can cause a bit issue with cooling but I am not sure how and if that air can be removed from the system when it is already mixed with the gas in compressor.First day of use after flushing it was better compared to previous days. The system didn’t drop performance and did some work to cool the room. At 24 degrees, it felt cool enough and I think it’s improved.Will share more after a few days of checking it. Increasing the rating from 1 star to 3 star for the well behaved technician from Giant air systems ( actually every technician who visited from Giant was well behaved and gentleman, it’s just my frustration with the delay in their response which got be cribbing about them ;) ha ha haa…)')"
   ]
  },
  {
   "cell_type": "code",
   "execution_count": null,
   "id": "977dc7d6",
   "metadata": {},
   "outputs": [],
   "source": []
  }
 ],
 "metadata": {
  "kernelspec": {
   "display_name": "Python 3 (ipykernel)",
   "language": "python",
   "name": "python3"
  },
  "language_info": {
   "codemirror_mode": {
    "name": "ipython",
    "version": 3
   },
   "file_extension": ".py",
   "mimetype": "text/x-python",
   "name": "python",
   "nbconvert_exporter": "python",
   "pygments_lexer": "ipython3",
   "version": "3.11.5"
  }
 },
 "nbformat": 4,
 "nbformat_minor": 5
}
