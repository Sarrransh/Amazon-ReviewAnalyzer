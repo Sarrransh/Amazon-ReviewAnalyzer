{
 "cells": [
  {
   "cell_type": "code",
   "execution_count": 52,
   "id": "92e20f84",
   "metadata": {},
   "outputs": [],
   "source": [
    "import pymysql\n",
    "import pandas as pd\n",
    "from textblob import TextBlob\n",
    "from langdetect import detect\n",
    "from langdetect.lang_detect_exception import LangDetectException"
   ]
  },
  {
   "cell_type": "code",
   "execution_count": null,
   "id": "8fbe32ab",
   "metadata": {},
   "outputs": [],
   "source": [
    "# Establish connection\n",
    "connection = pymysql.connect(\n",
    "    host='localhost',\n",
    "    user='root',\n",
    "    password='saransh',\n",
    "    database='amazon_reviews'\n",
    ")\n",
    "\n",
    "# Query data\n",
    "query = \"SELECT * FROM table1\"\n",
    "data = pd.read_sql(query, connection)\n",
    "\n",
    "# Close connection\n",
    "connection.close()\n"
   ]
  },
  {
   "cell_type": "code",
   "execution_count": 5,
   "id": "1b3d1963",
   "metadata": {},
   "outputs": [
    {
     "data": {
      "text/html": [
       "<div>\n",
       "<style scoped>\n",
       "    .dataframe tbody tr th:only-of-type {\n",
       "        vertical-align: middle;\n",
       "    }\n",
       "\n",
       "    .dataframe tbody tr th {\n",
       "        vertical-align: top;\n",
       "    }\n",
       "\n",
       "    .dataframe thead th {\n",
       "        text-align: right;\n",
       "    }\n",
       "</style>\n",
       "<table border=\"1\" class=\"dataframe\">\n",
       "  <thead>\n",
       "    <tr style=\"text-align: right;\">\n",
       "      <th></th>\n",
       "      <th>id</th>\n",
       "      <th>review_title</th>\n",
       "      <th>review_rating</th>\n",
       "      <th>review_body</th>\n",
       "    </tr>\n",
       "  </thead>\n",
       "  <tbody>\n",
       "    <tr>\n",
       "      <th>0</th>\n",
       "      <td>1</td>\n",
       "      <td>Best AC in affordable prize\\n</td>\n",
       "      <td>5</td>\n",
       "      <td>If you are looking for a complete package, the...</td>\n",
       "    </tr>\n",
       "    <tr>\n",
       "      <th>1</th>\n",
       "      <td>2</td>\n",
       "      <td>Worst brand and worst service\\n</td>\n",
       "      <td>1</td>\n",
       "      <td>Bought it for my Kerala home and thought Daiki...</td>\n",
       "    </tr>\n",
       "    <tr>\n",
       "      <th>2</th>\n",
       "      <td>3</td>\n",
       "      <td>High quality product from Daikin\\n</td>\n",
       "      <td>4</td>\n",
       "      <td>The delivery was quick and the AC was delivere...</td>\n",
       "    </tr>\n",
       "    <tr>\n",
       "      <th>3</th>\n",
       "      <td>4</td>\n",
       "      <td>One of the best AC out there + excellent remot...</td>\n",
       "      <td>5</td>\n",
       "      <td>If you are looking for a complete package, the...</td>\n",
       "    </tr>\n",
       "    <tr>\n",
       "      <th>4</th>\n",
       "      <td>5</td>\n",
       "      <td>Best cooling\\n</td>\n",
       "      <td>5</td>\n",
       "      <td>Since I am using this last 2months cooling is ...</td>\n",
       "    </tr>\n",
       "    <tr>\n",
       "      <th>...</th>\n",
       "      <td>...</td>\n",
       "      <td>...</td>\n",
       "      <td>...</td>\n",
       "      <td>...</td>\n",
       "    </tr>\n",
       "    <tr>\n",
       "      <th>85</th>\n",
       "      <td>86</td>\n",
       "      <td>Daikin ac 1.5\\n</td>\n",
       "      <td>4</td>\n",
       "      <td>This is a beautiful silent acThe company has n...</td>\n",
       "    </tr>\n",
       "    <tr>\n",
       "      <th>86</th>\n",
       "      <td>87</td>\n",
       "      <td>Excellent.\\n</td>\n",
       "      <td>4</td>\n",
       "      <td>Daikin - The Air Specialist.</td>\n",
       "    </tr>\n",
       "    <tr>\n",
       "      <th>87</th>\n",
       "      <td>88</td>\n",
       "      <td>Pathetic bought\\n</td>\n",
       "      <td>3</td>\n",
       "      <td>Don't buy DAIKIN AC in online.. they charged 3...</td>\n",
       "    </tr>\n",
       "    <tr>\n",
       "      <th>88</th>\n",
       "      <td>89</td>\n",
       "      <td>Price is misleading\\n</td>\n",
       "      <td>3</td>\n",
       "      <td>The price is misleading as I had to pay four t...</td>\n",
       "    </tr>\n",
       "    <tr>\n",
       "      <th>89</th>\n",
       "      <td>90</td>\n",
       "      <td>Nice Trusted Brand for AC\\n</td>\n",
       "      <td>5</td>\n",
       "      <td>Good product and awasome service.Let see how i...</td>\n",
       "    </tr>\n",
       "  </tbody>\n",
       "</table>\n",
       "<p>90 rows × 4 columns</p>\n",
       "</div>"
      ],
      "text/plain": [
       "    id                                       review_title  review_rating  \\\n",
       "0    1                      Best AC in affordable prize\\n              5   \n",
       "1    2                    Worst brand and worst service\\n              1   \n",
       "2    3                 High quality product from Daikin\\n              4   \n",
       "3    4  One of the best AC out there + excellent remot...              5   \n",
       "4    5                                     Best cooling\\n              5   \n",
       "..  ..                                                ...            ...   \n",
       "85  86                                    Daikin ac 1.5\\n              4   \n",
       "86  87                                       Excellent.\\n              4   \n",
       "87  88                                  Pathetic bought\\n              3   \n",
       "88  89                              Price is misleading\\n              3   \n",
       "89  90                        Nice Trusted Brand for AC\\n              5   \n",
       "\n",
       "                                          review_body  \n",
       "0   If you are looking for a complete package, the...  \n",
       "1   Bought it for my Kerala home and thought Daiki...  \n",
       "2   The delivery was quick and the AC was delivere...  \n",
       "3   If you are looking for a complete package, the...  \n",
       "4   Since I am using this last 2months cooling is ...  \n",
       "..                                                ...  \n",
       "85  This is a beautiful silent acThe company has n...  \n",
       "86                       Daikin - The Air Specialist.  \n",
       "87  Don't buy DAIKIN AC in online.. they charged 3...  \n",
       "88  The price is misleading as I had to pay four t...  \n",
       "89  Good product and awasome service.Let see how i...  \n",
       "\n",
       "[90 rows x 4 columns]"
      ]
     },
     "execution_count": 5,
     "metadata": {},
     "output_type": "execute_result"
    }
   ],
   "source": [
    "data"
   ]
  },
  {
   "cell_type": "code",
   "execution_count": 8,
   "id": "fb1b8e66",
   "metadata": {},
   "outputs": [],
   "source": [
    "datasort = data.sort_values(\"review_rating\", ascending=True)\n",
    "\n"
   ]
  },
  {
   "cell_type": "code",
   "execution_count": 10,
   "id": "47d4dd9c",
   "metadata": {},
   "outputs": [
    {
     "name": "stdout",
     "output_type": "stream",
     "text": [
      "Collecting textblob\n",
      "  Obtaining dependency information for textblob from https://files.pythonhosted.org/packages/02/07/5fd2945356dd839974d3a25de8a142dc37293c21315729a41e775b5f3569/textblob-0.18.0.post0-py3-none-any.whl.metadata\n",
      "  Downloading textblob-0.18.0.post0-py3-none-any.whl.metadata (4.5 kB)\n",
      "Requirement already satisfied: nltk>=3.8 in c:\\users\\administrator\\anaconda3\\lib\\site-packages (from textblob) (3.8.1)\n",
      "Requirement already satisfied: click in c:\\users\\administrator\\anaconda3\\lib\\site-packages (from nltk>=3.8->textblob) (8.1.7)\n",
      "Requirement already satisfied: joblib in c:\\users\\administrator\\anaconda3\\lib\\site-packages (from nltk>=3.8->textblob) (1.2.0)\n",
      "Requirement already satisfied: regex>=2021.8.3 in c:\\users\\administrator\\anaconda3\\lib\\site-packages (from nltk>=3.8->textblob) (2022.7.9)\n",
      "Requirement already satisfied: tqdm in c:\\users\\administrator\\anaconda3\\lib\\site-packages (from nltk>=3.8->textblob) (4.65.0)\n",
      "Requirement already satisfied: colorama in c:\\users\\administrator\\anaconda3\\lib\\site-packages (from click->nltk>=3.8->textblob) (0.4.6)\n",
      "Downloading textblob-0.18.0.post0-py3-none-any.whl (626 kB)\n",
      "   ---------------------------------------- 0.0/626.3 kB ? eta -:--:--\n",
      "   ---------------------------------------- 0.0/626.3 kB ? eta -:--:--\n",
      "   - ------------------------------------- 30.7/626.3 kB 640.0 kB/s eta 0:00:01\n",
      "   --- ----------------------------------- 61.4/626.3 kB 656.4 kB/s eta 0:00:01\n",
      "   --------- ------------------------------ 143.4/626.3 kB 1.1 MB/s eta 0:00:01\n",
      "   -------------------------- ------------- 419.8/626.3 kB 2.4 MB/s eta 0:00:01\n",
      "   ---------------------------------------  624.6/626.3 kB 2.8 MB/s eta 0:00:01\n",
      "   ---------------------------------------- 626.3/626.3 kB 2.6 MB/s eta 0:00:00\n",
      "Installing collected packages: textblob\n",
      "Successfully installed textblob-0.18.0.post0\n",
      "Note: you may need to restart the kernel to use updated packages.\n"
     ]
    }
   ],
   "source": [
    "pip install textblob\n"
   ]
  },
  {
   "cell_type": "code",
   "execution_count": 44,
   "id": "6a72d2e3",
   "metadata": {},
   "outputs": [
    {
     "name": "stdout",
     "output_type": "stream",
     "text": [
      "Best AC in affordable prize\n",
      "\n",
      "Worst brand and worst service\n",
      "\n",
      "High quality product from Daikin\n",
      "\n"
     ]
    }
   ],
   "source": [
    "# data.iloc[3]['review_title']\n",
    "count=0\n",
    "for r in data.index:\n",
    "    print(data['review_title'][r])\n",
    "    count+=1\n",
    "    if count==3:\n",
    "        break\n",
    "\n"
   ]
  },
  {
   "cell_type": "code",
   "execution_count": 51,
   "id": "577ca8fb",
   "metadata": {},
   "outputs": [
    {
     "data": {
      "text/plain": [
       "'If you are looking for a complete package, then look nowhere other than Daikin.I purchased the  AC 1.5 mnths ago, and until now I am impressed with what it has to offer. Installation went super smooth. The installation guys came within the same day. The installation process started, and it was done in 3 hours max.Also, for those people who are saying that they are charging money even when installation is free, you guys have no idea about how AC installation is done.The extra charges can vary heavily depending on the amount of material needed including pipe, tape and so on. In my case, it cost me 5000INR, and I am super happy with it.The build quality of the AC is excellent. The internal unit looks sleek and modern. The AC functions as advertised. It  cools very nicely.Overall ValueThe overall value of the AC is just excellent. It is affordable and enables you to enjoy with minimal electricity bills.'"
      ]
     },
     "execution_count": 51,
     "metadata": {},
     "output_type": "execute_result"
    }
   ],
   "source": [
    "\n",
    "def is_english(text):\n",
    "    try:\n",
    "        return detect(text) == 'en'\n",
    "    except LangDetectException:\n",
    "        return False\n",
    "    \n",
    "rows_to_drop=[]\n",
    "    \n",
    "for index, row in data.iterrows():\n",
    "    if not (is_english(row['review_title']) and is_english(row['review_body'])):\n",
    "        rows_to_drop.append(index)\n",
    "\n",
    "# Drop rows from the DataFrame\n",
    "data.drop(rows_to_drop, inplace=True)"
   ]
  },
  {
   "cell_type": "code",
   "execution_count": 29,
   "id": "84b5acd2",
   "metadata": {},
   "outputs": [
    {
     "data": {
      "text/html": [
       "<div>\n",
       "<style scoped>\n",
       "    .dataframe tbody tr th:only-of-type {\n",
       "        vertical-align: middle;\n",
       "    }\n",
       "\n",
       "    .dataframe tbody tr th {\n",
       "        vertical-align: top;\n",
       "    }\n",
       "\n",
       "    .dataframe thead th {\n",
       "        text-align: right;\n",
       "    }\n",
       "</style>\n",
       "<table border=\"1\" class=\"dataframe\">\n",
       "  <thead>\n",
       "    <tr style=\"text-align: right;\">\n",
       "      <th></th>\n",
       "      <th>id</th>\n",
       "      <th>review_title</th>\n",
       "      <th>review_rating</th>\n",
       "      <th>review_body</th>\n",
       "    </tr>\n",
       "  </thead>\n",
       "  <tbody>\n",
       "    <tr>\n",
       "      <th>0</th>\n",
       "      <td>1</td>\n",
       "      <td>Best AC in affordable prize\\n</td>\n",
       "      <td>5</td>\n",
       "      <td>If you are looking for a complete package, the...</td>\n",
       "    </tr>\n",
       "    <tr>\n",
       "      <th>1</th>\n",
       "      <td>2</td>\n",
       "      <td>Worst brand and worst service\\n</td>\n",
       "      <td>1</td>\n",
       "      <td>Bought it for my Kerala home and thought Daiki...</td>\n",
       "    </tr>\n",
       "    <tr>\n",
       "      <th>2</th>\n",
       "      <td>3</td>\n",
       "      <td>High quality product from Daikin\\n</td>\n",
       "      <td>4</td>\n",
       "      <td>The delivery was quick and the AC was delivere...</td>\n",
       "    </tr>\n",
       "    <tr>\n",
       "      <th>3</th>\n",
       "      <td>4</td>\n",
       "      <td>One of the best AC out there + excellent remot...</td>\n",
       "      <td>5</td>\n",
       "      <td>If you are looking for a complete package, the...</td>\n",
       "    </tr>\n",
       "    <tr>\n",
       "      <th>4</th>\n",
       "      <td>5</td>\n",
       "      <td>Best cooling\\n</td>\n",
       "      <td>5</td>\n",
       "      <td>Since I am using this last 2months cooling is ...</td>\n",
       "    </tr>\n",
       "  </tbody>\n",
       "</table>\n",
       "</div>"
      ],
      "text/plain": [
       "   id                                       review_title  review_rating  \\\n",
       "0   1                      Best AC in affordable prize\\n              5   \n",
       "1   2                    Worst brand and worst service\\n              1   \n",
       "2   3                 High quality product from Daikin\\n              4   \n",
       "3   4  One of the best AC out there + excellent remot...              5   \n",
       "4   5                                     Best cooling\\n              5   \n",
       "\n",
       "                                         review_body  \n",
       "0  If you are looking for a complete package, the...  \n",
       "1  Bought it for my Kerala home and thought Daiki...  \n",
       "2  The delivery was quick and the AC was delivere...  \n",
       "3  If you are looking for a complete package, the...  \n",
       "4  Since I am using this last 2months cooling is ...  "
      ]
     },
     "execution_count": 29,
     "metadata": {},
     "output_type": "execute_result"
    }
   ],
   "source": [
    "data.head()"
   ]
  }
 ],
 "metadata": {
  "kernelspec": {
   "display_name": "Python 3 (ipykernel)",
   "language": "python",
   "name": "python3"
  },
  "language_info": {
   "codemirror_mode": {
    "name": "ipython",
    "version": 3
   },
   "file_extension": ".py",
   "mimetype": "text/x-python",
   "name": "python",
   "nbconvert_exporter": "python",
   "pygments_lexer": "ipython3",
   "version": "3.11.5"
  }
 },
 "nbformat": 4,
 "nbformat_minor": 5
}
